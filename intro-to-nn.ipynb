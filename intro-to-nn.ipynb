{
 "cells": [
  {
   "cell_type": "markdown",
   "metadata": {},
   "source": [
    "# Intro to NN"
   ]
  },
  {
   "cell_type": "code",
   "execution_count": 145,
   "metadata": {},
   "outputs": [],
   "source": [
    "import numpy as np\n",
    "import pandas as pd\n",
    "import matplotlib.pyplot as plt\n",
    "import matplotlib\n",
    "%matplotlib inline\n",
    "matplotlib.rcParams['figure.figsize'] = [20, 10]"
   ]
  },
  {
   "cell_type": "code",
   "execution_count": 146,
   "metadata": {},
   "outputs": [],
   "source": [
    "import torch\n",
    "import torch.nn as nn\n",
    "import torch.optim as optim\n",
    "import torch.nn.functional as F"
   ]
  },
  {
   "cell_type": "markdown",
   "metadata": {},
   "source": [
    "## Basic operations\n",
    "\n",
    "![Simple Neuron](simple-neuron.png)"
   ]
  },
  {
   "cell_type": "code",
   "execution_count": 147,
   "metadata": {},
   "outputs": [
    {
     "data": {
      "text/plain": [
       "tensor(1.5500)"
      ]
     },
     "execution_count": 147,
     "metadata": {},
     "output_type": "execute_result"
    }
   ],
   "source": [
    "x1 = torch.tensor([0.1, 0.2], requires_grad=True)\n",
    "x2 = torch.tensor([0.1, 0.1], requires_grad=True)\n",
    "y = 3 * x1 + x2 + 1\n",
    "output = y.mean()\n",
    "output"
   ]
  },
  {
   "cell_type": "code",
   "execution_count": 148,
   "metadata": {},
   "outputs": [
    {
     "name": "stdout",
     "output_type": "stream",
     "text": [
      "tensor([ 1.5000,  1.5000]) tensor([ 0.5000,  0.5000])\n",
      "tensor([ 3.,  3.]) tensor([ 1.,  1.])\n",
      "tensor([ 4.5000,  4.5000]) tensor([ 1.5000,  1.5000])\n"
     ]
    }
   ],
   "source": [
    "output.backward()\n",
    "print(x1.grad, x2.grad)\n",
    "output.backward()\n",
    "print(x1.grad, x2.grad)\n",
    "output.backward()\n",
    "print(x1.grad, x2.grad)"
   ]
  },
  {
   "cell_type": "code",
   "execution_count": 149,
   "metadata": {},
   "outputs": [
    {
     "data": {
      "text/plain": [
       "tensor([ 0.,  0.])"
      ]
     },
     "execution_count": 149,
     "metadata": {},
     "output_type": "execute_result"
    }
   ],
   "source": [
    "x1.grad.data.zero_()"
   ]
  },
  {
   "cell_type": "code",
   "execution_count": 150,
   "metadata": {},
   "outputs": [
    {
     "name": "stdout",
     "output_type": "stream",
     "text": [
      "tensor([ 1.5000,  1.5000]) tensor([ 2.,  2.])\n"
     ]
    }
   ],
   "source": [
    "output.backward()\n",
    "print(x1.grad, x2.grad)"
   ]
  },
  {
   "cell_type": "code",
   "execution_count": 151,
   "metadata": {},
   "outputs": [
    {
     "data": {
      "text/plain": [
       "tensor(0.8239)"
      ]
     },
     "execution_count": 151,
     "metadata": {},
     "output_type": "execute_result"
    }
   ],
   "source": [
    "x1 = torch.tensor([0.1, 0.2], requires_grad=True)\n",
    "x2 = torch.tensor([0.1, 0.1], requires_grad=True)\n",
    "y = 3 * x1 + x2 + 1\n",
    "z = y.mean()\n",
    "z = F.sigmoid(y)\n",
    "output = z.mean()\n",
    "output"
   ]
  },
  {
   "cell_type": "code",
   "execution_count": 152,
   "metadata": {},
   "outputs": [
    {
     "name": "stdout",
     "output_type": "stream",
     "text": [
      "tensor([ 0.2380,  0.1959])\n"
     ]
    }
   ],
   "source": [
    "output.backward()\n",
    "print(x1.grad)"
   ]
  },
  {
   "cell_type": "code",
   "execution_count": 153,
   "metadata": {},
   "outputs": [],
   "source": [
    "x = torch.tensor([3], requires_grad=True)\n",
    "y = x**2\n",
    "z = 2*y"
   ]
  },
  {
   "cell_type": "code",
   "execution_count": 154,
   "metadata": {},
   "outputs": [],
   "source": [
    "z.backward()"
   ]
  },
  {
   "cell_type": "code",
   "execution_count": 155,
   "metadata": {},
   "outputs": [
    {
     "data": {
      "text/plain": [
       "tensor([ 12])"
      ]
     },
     "execution_count": 155,
     "metadata": {},
     "output_type": "execute_result"
    }
   ],
   "source": [
    "x.grad"
   ]
  },
  {
   "cell_type": "markdown",
   "metadata": {},
   "source": [
    "## Boston dataset"
   ]
  },
  {
   "cell_type": "code",
   "execution_count": 156,
   "metadata": {},
   "outputs": [
    {
     "name": "stdout",
     "output_type": "stream",
     "text": [
      "(506, 13)\n"
     ]
    }
   ],
   "source": [
    "from sklearn.datasets import load_boston\n",
    "boston = load_boston()\n",
    "print(boston.data.shape)"
   ]
  },
  {
   "cell_type": "code",
   "execution_count": 157,
   "metadata": {},
   "outputs": [
    {
     "data": {
      "text/plain": [
       "dict_keys(['data', 'target', 'feature_names', 'DESCR'])"
      ]
     },
     "execution_count": 157,
     "metadata": {},
     "output_type": "execute_result"
    }
   ],
   "source": [
    "boston.keys()"
   ]
  },
  {
   "cell_type": "code",
   "execution_count": 158,
   "metadata": {},
   "outputs": [
    {
     "name": "stdout",
     "output_type": "stream",
     "text": [
      "Boston House Prices dataset\n",
      "===========================\n",
      "\n",
      "Notes\n",
      "------\n",
      "Data Set Characteristics:  \n",
      "\n",
      "    :Number of Instances: 506 \n",
      "\n",
      "    :Number of Attributes: 13 numeric/categorical predictive\n",
      "    \n",
      "    :Median Value (attribute 14) is usually the target\n",
      "\n",
      "    :Attribute Information (in order):\n",
      "        - CRIM     per capita crime rate by town\n",
      "        - ZN       proportion of residential land zoned for lots over 25,000 sq.ft.\n",
      "        - INDUS    proportion of non-retail business acres per town\n",
      "        - CHAS     Charles River dummy variable (= 1 if tract bounds river; 0 otherwise)\n",
      "        - NOX      nitric oxides concentration (parts per 10 million)\n",
      "        - RM       average number of rooms per dwelling\n",
      "        - AGE      proportion of owner-occupied units built prior to 1940\n",
      "        - DIS      weighted distances to five Boston employment centres\n",
      "        - RAD      index of accessibility to radial highways\n",
      "        - TAX      full-value property-tax rate per $10,000\n",
      "        - PTRATIO  pupil-teacher ratio by town\n",
      "        - B        1000(Bk - 0.63)^2 where Bk is the proportion of blacks by town\n",
      "        - LSTAT    % lower status of the population\n",
      "        - MEDV     Median value of owner-occupied homes in $1000's\n",
      "\n",
      "    :Missing Attribute Values: None\n",
      "\n",
      "    :Creator: Harrison, D. and Rubinfeld, D.L.\n",
      "\n",
      "This is a copy of UCI ML housing dataset.\n",
      "http://archive.ics.uci.edu/ml/datasets/Housing\n",
      "\n",
      "\n",
      "This dataset was taken from the StatLib library which is maintained at Carnegie Mellon University.\n",
      "\n",
      "The Boston house-price data of Harrison, D. and Rubinfeld, D.L. 'Hedonic\n",
      "prices and the demand for clean air', J. Environ. Economics & Management,\n",
      "vol.5, 81-102, 1978.   Used in Belsley, Kuh & Welsch, 'Regression diagnostics\n",
      "...', Wiley, 1980.   N.B. Various transformations are used in the table on\n",
      "pages 244-261 of the latter.\n",
      "\n",
      "The Boston house-price data has been used in many machine learning papers that address regression\n",
      "problems.   \n",
      "     \n",
      "**References**\n",
      "\n",
      "   - Belsley, Kuh & Welsch, 'Regression diagnostics: Identifying Influential Data and Sources of Collinearity', Wiley, 1980. 244-261.\n",
      "   - Quinlan,R. (1993). Combining Instance-Based and Model-Based Learning. In Proceedings on the Tenth International Conference of Machine Learning, 236-243, University of Massachusetts, Amherst. Morgan Kaufmann.\n",
      "   - many more! (see http://archive.ics.uci.edu/ml/datasets/Housing)\n",
      "\n"
     ]
    }
   ],
   "source": [
    "print(boston.DESCR)"
   ]
  },
  {
   "cell_type": "markdown",
   "metadata": {},
   "source": [
    "We take two columns:\n",
    "* per capita crime rate by town\n",
    "* % lower status of the population"
   ]
  },
  {
   "cell_type": "code",
   "execution_count": 159,
   "metadata": {},
   "outputs": [],
   "source": [
    "X = boston.data[:, [0, 12]]\n",
    "medval = boston.target"
   ]
  },
  {
   "cell_type": "code",
   "execution_count": 160,
   "metadata": {},
   "outputs": [
    {
     "data": {
      "text/plain": [
       "Text(0.5,0,\"Median value of owner-occupied homes in $1000's\")"
      ]
     },
     "execution_count": 160,
     "metadata": {},
     "output_type": "execute_result"
    },
    {
     "data": {
      "image/png": "[encoded data removed]",
      "text/plain": [
       "<matplotlib.figure.Figure at 0x1148349e8>"
      ]
     },
     "metadata": {},
     "output_type": "display_data"
    }
   ],
   "source": [
    "n, bins, patches = plt.hist(medval, 50, normed=1, facecolor='orange', alpha=0.75)\n",
    "plt.xlabel(\"Median value of owner-occupied homes in $1000's\")"
   ]
  },
  {
   "cell_type": "code",
   "execution_count": 173,
   "metadata": {},
   "outputs": [
    {
     "data": {
      "text/plain": [
       "Text(0,0.5,'per capita crime rate by town')"
      ]
     },
     "execution_count": 173,
     "metadata": {},
     "output_type": "execute_result"
    },
    {
     "data": {
      "image/png": "[encoded data removed]",
      "text/plain": [
       "<matplotlib.figure.Figure at 0x1148d5cc0>"
      ]
     },
     "metadata": {},
     "output_type": "display_data"
    }
   ],
   "source": [
    "s = plt.scatter(X[:,0], X[:,1], c=medval, alpha=0.3)\n",
    "plt.colorbar(s)\n",
    "plt.xlabel(\"% lower status of the population\")\n",
    "plt.ylabel(\"per capita crime rate by town\")\n",
    "#plt.xlim(0, 2)"
   ]
  },
  {
   "cell_type": "code",
   "execution_count": 162,
   "metadata": {},
   "outputs": [
    {
     "data": {
      "text/plain": [
       "Text(0,0.5,\"Median value of owner-occupied homes in $1000's\")"
      ]
     },
     "execution_count": 162,
     "metadata": {},
     "output_type": "execute_result"
    },
    {
     "data": {
      "image/png": "[encoded data removed]",
      "text/plain": [
       "<matplotlib.figure.Figure at 0x11484d240>"
      ]
     },
     "metadata": {},
     "output_type": "display_data"
    }
   ],
   "source": [
    "plt.scatter(X[:,1], medval, alpha=0.3)\n",
    "plt.xlabel(\"% lower status of the population\")\n",
    "plt.ylabel(\"Median value of owner-occupied homes in $1000's\")"
   ]
  },
  {
   "cell_type": "markdown",
   "metadata": {},
   "source": [
    "## Regresion"
   ]
  },
  {
   "cell_type": "code",
   "execution_count": 163,
   "metadata": {},
   "outputs": [],
   "source": [
    "# define target:\n",
    "y = medval"
   ]
  },
  {
   "cell_type": "code",
   "execution_count": 164,
   "metadata": {},
   "outputs": [
    {
     "data": {
      "text/html": [
       "<div>\n",
       "<style scoped>\n",
       "    .dataframe tbody tr th:only-of-type {\n",
       "        vertical-align: middle;\n",
       "    }\n",
       "\n",
       "    .dataframe tbody tr th {\n",
       "        vertical-align: top;\n",
       "    }\n",
       "\n",
       "    .dataframe thead th {\n",
       "        text-align: right;\n",
       "    }\n",
       "</style>\n",
       "<table border=\"1\" class=\"dataframe\">\n",
       "  <thead>\n",
       "    <tr style=\"text-align: right;\">\n",
       "      <th></th>\n",
       "      <th>CRIM</th>\n",
       "      <th>LSTAT</th>\n",
       "      <th>medval</th>\n",
       "    </tr>\n",
       "  </thead>\n",
       "  <tbody>\n",
       "    <tr>\n",
       "      <th>0</th>\n",
       "      <td>0.00632</td>\n",
       "      <td>4.98</td>\n",
       "      <td>24.0</td>\n",
       "    </tr>\n",
       "    <tr>\n",
       "      <th>1</th>\n",
       "      <td>0.02731</td>\n",
       "      <td>9.14</td>\n",
       "      <td>21.6</td>\n",
       "    </tr>\n",
       "    <tr>\n",
       "      <th>2</th>\n",
       "      <td>0.02729</td>\n",
       "      <td>4.03</td>\n",
       "      <td>34.7</td>\n",
       "    </tr>\n",
       "    <tr>\n",
       "      <th>3</th>\n",
       "      <td>0.03237</td>\n",
       "      <td>2.94</td>\n",
       "      <td>33.4</td>\n",
       "    </tr>\n",
       "    <tr>\n",
       "      <th>4</th>\n",
       "      <td>0.06905</td>\n",
       "      <td>5.33</td>\n",
       "      <td>36.2</td>\n",
       "    </tr>\n",
       "  </tbody>\n",
       "</table>\n",
       "</div>"
      ],
      "text/plain": [
       "      CRIM  LSTAT  medval\n",
       "0  0.00632   4.98    24.0\n",
       "1  0.02731   9.14    21.6\n",
       "2  0.02729   4.03    34.7\n",
       "3  0.03237   2.94    33.4\n",
       "4  0.06905   5.33    36.2"
      ]
     },
     "execution_count": 164,
     "metadata": {},
     "output_type": "execute_result"
    }
   ],
   "source": [
    "# just to print it nicely\n",
    "df = pd.DataFrame(X, columns=['CRIM', 'LSTAT'])\n",
    "df['medval'] = y\n",
    "df.head()"
   ]
  },
  {
   "cell_type": "code",
   "execution_count": 165,
   "metadata": {},
   "outputs": [],
   "source": [
    "# translate numpy to torch's objects\n",
    "X_torch = torch.from_numpy(X).float()\n",
    "y_torch = torch.tensor(y).float()"
   ]
  },
  {
   "cell_type": "code",
   "execution_count": 186,
   "metadata": {},
   "outputs": [],
   "source": [
    "# predefined linear model (no activation funcion)\n",
    "model = nn.Linear(in_features=2, out_features=1, bias=True)"
   ]
  },
  {
   "cell_type": "code",
   "execution_count": 187,
   "metadata": {},
   "outputs": [
    {
     "data": {
      "text/plain": [
       "Parameter containing:\n",
       "tensor([[-0.1377,  0.2217]])"
      ]
     },
     "execution_count": 187,
     "metadata": {},
     "output_type": "execute_result"
    }
   ],
   "source": [
    "model.weight"
   ]
  },
  {
   "cell_type": "code",
   "execution_count": 188,
   "metadata": {},
   "outputs": [
    {
     "data": {
      "text/plain": [
       "Parameter containing:\n",
       "tensor([ 0.2527])"
      ]
     },
     "execution_count": 188,
     "metadata": {},
     "output_type": "execute_result"
    }
   ],
   "source": [
    "model.bias"
   ]
  },
  {
   "cell_type": "code",
   "execution_count": 189,
   "metadata": {},
   "outputs": [],
   "source": [
    "### Choose loss function and optimizer\n",
    "criterion = nn.MSELoss()\n",
    "optimizer = optim.Adam(model.parameters(), lr=0.01)"
   ]
  },
  {
   "cell_type": "markdown",
   "metadata": {},
   "source": [
    "## How to update weights"
   ]
  },
  {
   "cell_type": "code",
   "execution_count": 190,
   "metadata": {},
   "outputs": [
    {
     "data": {
      "text/plain": [
       "tensor([ 1.3561,  2.2756,  1.1425,  0.9001,  1.4250])"
      ]
     },
     "execution_count": 190,
     "metadata": {},
     "output_type": "execute_result"
    }
   ],
   "source": [
    "# Zero gradients (just in case)\n",
    "optimizer.zero_grad()\n",
    "\n",
    "# Forward pass, calculate predictions\n",
    "output = model(X_torch)\n",
    "output[:5, 0]"
   ]
  },
  {
   "cell_type": "code",
   "execution_count": 191,
   "metadata": {},
   "outputs": [
    {
     "data": {
      "text/plain": [
       "tensor([[ 24.0000],\n",
       "        [ 21.6000],\n",
       "        [ 34.7000],\n",
       "        [ 33.4000],\n",
       "        [ 36.2000],\n",
       "        [ 28.7000],\n",
       "        [ 22.9000],\n",
       "        [ 27.1000],\n",
       "        [ 16.5000],\n",
       "        [ 18.9000],\n",
       "        [ 15.0000],\n",
       "        [ 18.9000],\n",
       "        [ 21.7000],\n",
       "        [ 20.4000],\n",
       "        [ 18.2000],\n",
       "        [ 19.9000],\n",
       "        [ 23.1000],\n",
       "        [ 17.5000],\n",
       "        [ 20.2000],\n",
       "        [ 18.2000],\n",
       "        [ 13.6000],\n",
       "        [ 19.6000],\n",
       "        [ 15.2000],\n",
       "        [ 14.5000],\n",
       "        [ 15.6000],\n",
       "        [ 13.9000],\n",
       "        [ 16.6000],\n",
       "        [ 14.8000],\n",
       "        [ 18.4000],\n",
       "        [ 21.0000],\n",
       "        [ 12.7000],\n",
       "        [ 14.5000],\n",
       "        [ 13.2000],\n",
       "        [ 13.1000],\n",
       "        [ 13.5000],\n",
       "        [ 18.9000],\n",
       "        [ 20.0000],\n",
       "        [ 21.0000],\n",
       "        [ 24.7000],\n",
       "        [ 30.8000],\n",
       "        [ 34.9000],\n",
       "        [ 26.6000],\n",
       "        [ 25.3000],\n",
       "        [ 24.7000],\n",
       "        [ 21.2000],\n",
       "        [ 19.3000],\n",
       "        [ 20.0000],\n",
       "        [ 16.6000],\n",
       "        [ 14.4000],\n",
       "        [ 19.4000],\n",
       "        [ 19.7000],\n",
       "        [ 20.5000],\n",
       "        [ 25.0000],\n",
       "        [ 23.4000],\n",
       "        [ 18.9000],\n",
       "        [ 35.4000],\n",
       "        [ 24.7000],\n",
       "        [ 31.6000],\n",
       "        [ 23.3000],\n",
       "        [ 19.6000],\n",
       "        [ 18.7000],\n",
       "        [ 16.0000],\n",
       "        [ 22.2000],\n",
       "        [ 25.0000],\n",
       "        [ 33.0000],\n",
       "        [ 23.5000],\n",
       "        [ 19.4000],\n",
       "        [ 22.0000],\n",
       "        [ 17.4000],\n",
       "        [ 20.9000],\n",
       "        [ 24.2000],\n",
       "        [ 21.7000],\n",
       "        [ 22.8000],\n",
       "        [ 23.4000],\n",
       "        [ 24.1000],\n",
       "        [ 21.4000],\n",
       "        [ 20.0000],\n",
       "        [ 20.8000],\n",
       "        [ 21.2000],\n",
       "        [ 20.3000],\n",
       "        [ 28.0000],\n",
       "        [ 23.9000],\n",
       "        [ 24.8000],\n",
       "        [ 22.9000],\n",
       "        [ 23.9000],\n",
       "        [ 26.6000],\n",
       "        [ 22.5000],\n",
       "        [ 22.2000],\n",
       "        [ 23.6000],\n",
       "        [ 28.7000],\n",
       "        [ 22.6000],\n",
       "        [ 22.0000],\n",
       "        [ 22.9000],\n",
       "        [ 25.0000],\n",
       "        [ 20.6000],\n",
       "        [ 28.4000],\n",
       "        [ 21.4000],\n",
       "        [ 38.7000],\n",
       "        [ 43.8000],\n",
       "        [ 33.2000],\n",
       "        [ 27.5000],\n",
       "        [ 26.5000],\n",
       "        [ 18.6000],\n",
       "        [ 19.3000],\n",
       "        [ 20.1000],\n",
       "        [ 19.5000],\n",
       "        [ 19.5000],\n",
       "        [ 20.4000],\n",
       "        [ 19.8000],\n",
       "        [ 19.4000],\n",
       "        [ 21.7000],\n",
       "        [ 22.8000],\n",
       "        [ 18.8000],\n",
       "        [ 18.7000],\n",
       "        [ 18.5000],\n",
       "        [ 18.3000],\n",
       "        [ 21.2000],\n",
       "        [ 19.2000],\n",
       "        [ 20.4000],\n",
       "        [ 19.3000],\n",
       "        [ 22.0000],\n",
       "        [ 20.3000],\n",
       "        [ 20.5000],\n",
       "        [ 17.3000],\n",
       "        [ 18.8000],\n",
       "        [ 21.4000],\n",
       "        [ 15.7000],\n",
       "        [ 16.2000],\n",
       "        [ 18.0000],\n",
       "        [ 14.3000],\n",
       "        [ 19.2000],\n",
       "        [ 19.6000],\n",
       "        [ 23.0000],\n",
       "        [ 18.4000],\n",
       "        [ 15.6000],\n",
       "        [ 18.1000],\n",
       "        [ 17.4000],\n",
       "        [ 17.1000],\n",
       "        [ 13.3000],\n",
       "        [ 17.8000],\n",
       "        [ 14.0000],\n",
       "        [ 14.4000],\n",
       "        [ 13.4000],\n",
       "        [ 15.6000],\n",
       "        [ 11.8000],\n",
       "        [ 13.8000],\n",
       "        [ 15.6000],\n",
       "        [ 14.6000],\n",
       "        [ 17.8000],\n",
       "        [ 15.4000],\n",
       "        [ 21.5000],\n",
       "        [ 19.6000],\n",
       "        [ 15.3000],\n",
       "        [ 19.4000],\n",
       "        [ 17.0000],\n",
       "        [ 15.6000],\n",
       "        [ 13.1000],\n",
       "        [ 41.3000],\n",
       "        [ 24.3000],\n",
       "        [ 23.3000],\n",
       "        [ 27.0000],\n",
       "        [ 50.0000],\n",
       "        [ 50.0000],\n",
       "        [ 50.0000],\n",
       "        [ 22.7000],\n",
       "        [ 25.0000],\n",
       "        [ 50.0000],\n",
       "        [ 23.8000],\n",
       "        [ 23.8000],\n",
       "        [ 22.3000],\n",
       "        [ 17.4000],\n",
       "        [ 19.1000],\n",
       "        [ 23.1000],\n",
       "        [ 23.6000],\n",
       "        [ 22.6000],\n",
       "        [ 29.4000],\n",
       "        [ 23.2000],\n",
       "        [ 24.6000],\n",
       "        [ 29.9000],\n",
       "        [ 37.2000],\n",
       "        [ 39.8000],\n",
       "        [ 36.2000],\n",
       "        [ 37.9000],\n",
       "        [ 32.5000],\n",
       "        [ 26.4000],\n",
       "        [ 29.6000],\n",
       "        [ 50.0000],\n",
       "        [ 32.0000],\n",
       "        [ 29.8000],\n",
       "        [ 34.9000],\n",
       "        [ 37.0000],\n",
       "        [ 30.5000],\n",
       "        [ 36.4000],\n",
       "        [ 31.1000],\n",
       "        [ 29.1000],\n",
       "        [ 50.0000],\n",
       "        [ 33.3000],\n",
       "        [ 30.3000],\n",
       "        [ 34.6000],\n",
       "        [ 34.9000],\n",
       "        [ 32.9000],\n",
       "        [ 24.1000],\n",
       "        [ 42.3000],\n",
       "        [ 48.5000],\n",
       "        [ 50.0000],\n",
       "        [ 22.6000],\n",
       "        [ 24.4000],\n",
       "        [ 22.5000],\n",
       "        [ 24.4000],\n",
       "        [ 20.0000],\n",
       "        [ 21.7000],\n",
       "        [ 19.3000],\n",
       "        [ 22.4000],\n",
       "        [ 28.1000],\n",
       "        [ 23.7000],\n",
       "        [ 25.0000],\n",
       "        [ 23.3000],\n",
       "        [ 28.7000],\n",
       "        [ 21.5000],\n",
       "        [ 23.0000],\n",
       "        [ 26.7000],\n",
       "        [ 21.7000],\n",
       "        [ 27.5000],\n",
       "        [ 30.1000],\n",
       "        [ 44.8000],\n",
       "        [ 50.0000],\n",
       "        [ 37.6000],\n",
       "        [ 31.6000],\n",
       "        [ 46.7000],\n",
       "        [ 31.5000],\n",
       "        [ 24.3000],\n",
       "        [ 31.7000],\n",
       "        [ 41.7000],\n",
       "        [ 48.3000],\n",
       "        [ 29.0000],\n",
       "        [ 24.0000],\n",
       "        [ 25.1000],\n",
       "        [ 31.5000],\n",
       "        [ 23.7000],\n",
       "        [ 23.3000],\n",
       "        [ 22.0000],\n",
       "        [ 20.1000],\n",
       "        [ 22.2000],\n",
       "        [ 23.7000],\n",
       "        [ 17.6000],\n",
       "        [ 18.5000],\n",
       "        [ 24.3000],\n",
       "        [ 20.5000],\n",
       "        [ 24.5000],\n",
       "        [ 26.2000],\n",
       "        [ 24.4000],\n",
       "        [ 24.8000],\n",
       "        [ 29.6000],\n",
       "        [ 42.8000],\n",
       "        [ 21.9000],\n",
       "        [ 20.9000],\n",
       "        [ 44.0000],\n",
       "        [ 50.0000],\n",
       "        [ 36.0000],\n",
       "        [ 30.1000],\n",
       "        [ 33.8000],\n",
       "        [ 43.1000],\n",
       "        [ 48.8000],\n",
       "        [ 31.0000],\n",
       "        [ 36.5000],\n",
       "        [ 22.8000],\n",
       "        [ 30.7000],\n",
       "        [ 50.0000],\n",
       "        [ 43.5000],\n",
       "        [ 20.7000],\n",
       "        [ 21.1000],\n",
       "        [ 25.2000],\n",
       "        [ 24.4000],\n",
       "        [ 35.2000],\n",
       "        [ 32.4000],\n",
       "        [ 32.0000],\n",
       "        [ 33.2000],\n",
       "        [ 33.1000],\n",
       "        [ 29.1000],\n",
       "        [ 35.1000],\n",
       "        [ 45.4000],\n",
       "        [ 35.4000],\n",
       "        [ 46.0000],\n",
       "        [ 50.0000],\n",
       "        [ 32.2000],\n",
       "        [ 22.0000],\n",
       "        [ 20.1000],\n",
       "        [ 23.2000],\n",
       "        [ 22.3000],\n",
       "        [ 24.8000],\n",
       "        [ 28.5000],\n",
       "        [ 37.3000],\n",
       "        [ 27.9000],\n",
       "        [ 23.9000],\n",
       "        [ 21.7000],\n",
       "        [ 28.6000],\n",
       "        [ 27.1000],\n",
       "        [ 20.3000],\n",
       "        [ 22.5000],\n",
       "        [ 29.0000],\n",
       "        [ 24.8000],\n",
       "        [ 22.0000],\n",
       "        [ 26.4000],\n",
       "        [ 33.1000],\n",
       "        [ 36.1000],\n",
       "        [ 28.4000],\n",
       "        [ 33.4000],\n",
       "        [ 28.2000],\n",
       "        [ 22.8000],\n",
       "        [ 20.3000],\n",
       "        [ 16.1000],\n",
       "        [ 22.1000],\n",
       "        [ 19.4000],\n",
       "        [ 21.6000],\n",
       "        [ 23.8000],\n",
       "        [ 16.2000],\n",
       "        [ 17.8000],\n",
       "        [ 19.8000],\n",
       "        [ 23.1000],\n",
       "        [ 21.0000],\n",
       "        [ 23.8000],\n",
       "        [ 23.1000],\n",
       "        [ 20.4000],\n",
       "        [ 18.5000],\n",
       "        [ 25.0000],\n",
       "        [ 24.6000],\n",
       "        [ 23.0000],\n",
       "        [ 22.2000],\n",
       "        [ 19.3000],\n",
       "        [ 22.6000],\n",
       "        [ 19.8000],\n",
       "        [ 17.1000],\n",
       "        [ 19.4000],\n",
       "        [ 22.2000],\n",
       "        [ 20.7000],\n",
       "        [ 21.1000],\n",
       "        [ 19.5000],\n",
       "        [ 18.5000],\n",
       "        [ 20.6000],\n",
       "        [ 19.0000],\n",
       "        [ 18.7000],\n",
       "        [ 32.7000],\n",
       "        [ 16.5000],\n",
       "        [ 23.9000],\n",
       "        [ 31.2000],\n",
       "        [ 17.5000],\n",
       "        [ 17.2000],\n",
       "        [ 23.1000],\n",
       "        [ 24.5000],\n",
       "        [ 26.6000],\n",
       "        [ 22.9000],\n",
       "        [ 24.1000],\n",
       "        [ 18.6000],\n",
       "        [ 30.1000],\n",
       "        [ 18.2000],\n",
       "        [ 20.6000],\n",
       "        [ 17.8000],\n",
       "        [ 21.7000],\n",
       "        [ 22.7000],\n",
       "        [ 22.6000],\n",
       "        [ 25.0000],\n",
       "        [ 19.9000],\n",
       "        [ 20.8000],\n",
       "        [ 16.8000],\n",
       "        [ 21.9000],\n",
       "        [ 27.5000],\n",
       "        [ 21.9000],\n",
       "        [ 23.1000],\n",
       "        [ 50.0000],\n",
       "        [ 50.0000],\n",
       "        [ 50.0000],\n",
       "        [ 50.0000],\n",
       "        [ 50.0000],\n",
       "        [ 13.8000],\n",
       "        [ 13.8000],\n",
       "        [ 15.0000],\n",
       "        [ 13.9000],\n",
       "        [ 13.3000],\n",
       "        [ 13.1000],\n",
       "        [ 10.2000],\n",
       "        [ 10.4000],\n",
       "        [ 10.9000],\n",
       "        [ 11.3000],\n",
       "        [ 12.3000],\n",
       "        [  8.8000],\n",
       "        [  7.2000],\n",
       "        [ 10.5000],\n",
       "        [  7.4000],\n",
       "        [ 10.2000],\n",
       "        [ 11.5000],\n",
       "        [ 15.1000],\n",
       "        [ 23.2000],\n",
       "        [  9.7000],\n",
       "        [ 13.8000],\n",
       "        [ 12.7000],\n",
       "        [ 13.1000],\n",
       "        [ 12.5000],\n",
       "        [  8.5000],\n",
       "        [  5.0000],\n",
       "        [  6.3000],\n",
       "        [  5.6000],\n",
       "        [  7.2000],\n",
       "        [ 12.1000],\n",
       "        [  8.3000],\n",
       "        [  8.5000],\n",
       "        [  5.0000],\n",
       "        [ 11.9000],\n",
       "        [ 27.9000],\n",
       "        [ 17.2000],\n",
       "        [ 27.5000],\n",
       "        [ 15.0000],\n",
       "        [ 17.2000],\n",
       "        [ 17.9000],\n",
       "        [ 16.3000],\n",
       "        [  7.0000],\n",
       "        [  7.2000],\n",
       "        [  7.5000],\n",
       "        [ 10.4000],\n",
       "        [  8.8000],\n",
       "        [  8.4000],\n",
       "        [ 16.7000],\n",
       "        [ 14.2000],\n",
       "        [ 20.8000],\n",
       "        [ 13.4000],\n",
       "        [ 11.7000],\n",
       "        [  8.3000],\n",
       "        [ 10.2000],\n",
       "        [ 10.9000],\n",
       "        [ 11.0000],\n",
       "        [  9.5000],\n",
       "        [ 14.5000],\n",
       "        [ 14.1000],\n",
       "        [ 16.1000],\n",
       "        [ 14.3000],\n",
       "        [ 11.7000],\n",
       "        [ 13.4000],\n",
       "        [  9.6000],\n",
       "        [  8.7000],\n",
       "        [  8.4000],\n",
       "        [ 12.8000],\n",
       "        [ 10.5000],\n",
       "        [ 17.1000],\n",
       "        [ 18.4000],\n",
       "        [ 15.4000],\n",
       "        [ 10.8000],\n",
       "        [ 11.8000],\n",
       "        [ 14.9000],\n",
       "        [ 12.6000],\n",
       "        [ 14.1000],\n",
       "        [ 13.0000],\n",
       "        [ 13.4000],\n",
       "        [ 15.2000],\n",
       "        [ 16.1000],\n",
       "        [ 17.8000],\n",
       "        [ 14.9000],\n",
       "        [ 14.1000],\n",
       "        [ 12.7000],\n",
       "        [ 13.5000],\n",
       "        [ 14.9000],\n",
       "        [ 20.0000],\n",
       "        [ 16.4000],\n",
       "        [ 17.7000],\n",
       "        [ 19.5000],\n",
       "        [ 20.2000],\n",
       "        [ 21.4000],\n",
       "        [ 19.9000],\n",
       "        [ 19.0000],\n",
       "        [ 19.1000],\n",
       "        [ 19.1000],\n",
       "        [ 20.1000],\n",
       "        [ 19.9000],\n",
       "        [ 19.6000],\n",
       "        [ 23.2000],\n",
       "        [ 29.8000],\n",
       "        [ 13.8000],\n",
       "        [ 13.3000],\n",
       "        [ 16.7000],\n",
       "        [ 12.0000],\n",
       "        [ 14.6000],\n",
       "        [ 21.4000],\n",
       "        [ 23.0000],\n",
       "        [ 23.7000],\n",
       "        [ 25.0000],\n",
       "        [ 21.8000],\n",
       "        [ 20.6000],\n",
       "        [ 21.2000],\n",
       "        [ 19.1000],\n",
       "        [ 20.6000],\n",
       "        [ 15.2000],\n",
       "        [  7.0000],\n",
       "        [  8.1000],\n",
       "        [ 13.6000],\n",
       "        [ 20.1000],\n",
       "        [ 21.8000],\n",
       "        [ 24.5000],\n",
       "        [ 23.1000],\n",
       "        [ 19.7000],\n",
       "        [ 18.3000],\n",
       "        [ 21.2000],\n",
       "        [ 17.5000],\n",
       "        [ 16.8000],\n",
       "        [ 22.4000],\n",
       "        [ 20.6000],\n",
       "        [ 23.9000],\n",
       "        [ 22.0000],\n",
       "        [ 11.9000]])"
      ]
     },
     "execution_count": 191,
     "metadata": {},
     "output_type": "execute_result"
    }
   ],
   "source": [
    "y_torch.unsqueeze(1)"
   ]
  },
  {
   "cell_type": "code",
   "execution_count": 192,
   "metadata": {},
   "outputs": [],
   "source": [
    "# Calculate loss\n",
    "loss = criterion(output, y_torch.unsqueeze(1))"
   ]
  },
  {
   "cell_type": "code",
   "execution_count": 193,
   "metadata": {},
   "outputs": [
    {
     "data": {
      "text/plain": [
       "tensor([[ -90.6620, -393.7025]])"
      ]
     },
     "execution_count": 193,
     "metadata": {},
     "output_type": "execute_result"
    }
   ],
   "source": [
    "## Backward propagation\n",
    "loss.backward()\n",
    "model.weight.grad"
   ]
  },
  {
   "cell_type": "code",
   "execution_count": 194,
   "metadata": {},
   "outputs": [
    {
     "data": {
      "text/plain": [
       "Parameter containing:\n",
       "tensor([[-0.1277,  0.2317]])"
      ]
     },
     "execution_count": 194,
     "metadata": {},
     "output_type": "execute_result"
    }
   ],
   "source": [
    "## Upade weights\n",
    "optimizer.step()\n",
    "model.weight"
   ]
  },
  {
   "cell_type": "code",
   "execution_count": 199,
   "metadata": {},
   "outputs": [],
   "source": [
    "from torch.utils.data.dataset import Dataset\n",
    "\n",
    "class BostonDataset(Dataset):\n",
    "    \n",
    "    def __init__(self):\n",
    "        pass"
   ]
  },
  {
   "cell_type": "markdown",
   "metadata": {},
   "source": [
    "## Logistic Regression"
   ]
  },
  {
   "cell_type": "code",
   "execution_count": 195,
   "metadata": {},
   "outputs": [],
   "source": [
    "y = medval > 25 # if a "
   ]
  },
  {
   "cell_type": "code",
   "execution_count": 196,
   "metadata": {},
   "outputs": [
    {
     "data": {
      "text/html": [
       "<div>\n",
       "<style scoped>\n",
       "    .dataframe tbody tr th:only-of-type {\n",
       "        vertical-align: middle;\n",
       "    }\n",
       "\n",
       "    .dataframe tbody tr th {\n",
       "        vertical-align: top;\n",
       "    }\n",
       "\n",
       "    .dataframe thead th {\n",
       "        text-align: right;\n",
       "    }\n",
       "</style>\n",
       "<table border=\"1\" class=\"dataframe\">\n",
       "  <thead>\n",
       "    <tr style=\"text-align: right;\">\n",
       "      <th></th>\n",
       "      <th>CRIM</th>\n",
       "      <th>LSTAT</th>\n",
       "      <th>expensive</th>\n",
       "    </tr>\n",
       "  </thead>\n",
       "  <tbody>\n",
       "    <tr>\n",
       "      <th>0</th>\n",
       "      <td>0.00632</td>\n",
       "      <td>4.98</td>\n",
       "      <td>False</td>\n",
       "    </tr>\n",
       "    <tr>\n",
       "      <th>1</th>\n",
       "      <td>0.02731</td>\n",
       "      <td>9.14</td>\n",
       "      <td>False</td>\n",
       "    </tr>\n",
       "    <tr>\n",
       "      <th>2</th>\n",
       "      <td>0.02729</td>\n",
       "      <td>4.03</td>\n",
       "      <td>True</td>\n",
       "    </tr>\n",
       "    <tr>\n",
       "      <th>3</th>\n",
       "      <td>0.03237</td>\n",
       "      <td>2.94</td>\n",
       "      <td>True</td>\n",
       "    </tr>\n",
       "    <tr>\n",
       "      <th>4</th>\n",
       "      <td>0.06905</td>\n",
       "      <td>5.33</td>\n",
       "      <td>True</td>\n",
       "    </tr>\n",
       "  </tbody>\n",
       "</table>\n",
       "</div>"
      ],
      "text/plain": [
       "      CRIM  LSTAT  expensive\n",
       "0  0.00632   4.98      False\n",
       "1  0.02731   9.14      False\n",
       "2  0.02729   4.03       True\n",
       "3  0.03237   2.94       True\n",
       "4  0.06905   5.33       True"
      ]
     },
     "execution_count": 196,
     "metadata": {},
     "output_type": "execute_result"
    }
   ],
   "source": [
    "# just for showing data\n",
    "df = pd.DataFrame(X, columns=['CRIM', 'LSTAT'])\n",
    "df['expensive'] = y\n",
    "df.head()"
   ]
  },
  {
   "cell_type": "code",
   "execution_count": 197,
   "metadata": {},
   "outputs": [
    {
     "data": {
      "text/plain": [
       "<matplotlib.collections.PathCollection at 0x1120764e0>"
      ]
     },
     "execution_count": 197,
     "metadata": {},
     "output_type": "execute_result"
    },
    {
     "data": {
      "image/png": "[encoded data removed]",
      "text/plain": [
       "<matplotlib.figure.Figure at 0x112d9d9b0>"
      ]
     },
     "metadata": {},
     "output_type": "display_data"
    }
   ],
   "source": [
    "plt.scatter(X[:,0], X[:,1], c=y, alpha=0.3)\n",
    "#plt.xlim(0, 2)"
   ]
  },
  {
   "cell_type": "markdown",
   "metadata": {},
   "source": [
    "## Logistic regression: the simples NN"
   ]
  },
  {
   "cell_type": "code",
   "execution_count": 126,
   "metadata": {},
   "outputs": [],
   "source": [
    "X_torch = torch.from_numpy(X).float()\n",
    "y_torch = torch.tensor(y.astype(float)).float()"
   ]
  },
  {
   "cell_type": "code",
   "execution_count": 127,
   "metadata": {},
   "outputs": [],
   "source": [
    "from collections import OrderedDict\n",
    "model = nn.Sequential(OrderedDict([\n",
    "                      ('fc', nn.Linear(in_features=2, out_features=1, bias=True)),\n",
    "                      ('sigmoid', nn.Sigmoid())]))"
   ]
  },
  {
   "cell_type": "code",
   "execution_count": 128,
   "metadata": {},
   "outputs": [
    {
     "data": {
      "text/plain": [
       "Parameter containing:\n",
       "tensor([[ 0.5996,  0.0780]])"
      ]
     },
     "execution_count": 128,
     "metadata": {},
     "output_type": "execute_result"
    }
   ],
   "source": [
    "model.fc.weight"
   ]
  },
  {
   "cell_type": "code",
   "execution_count": 129,
   "metadata": {},
   "outputs": [],
   "source": [
    "criterion = nn.BCELoss()\n",
    "optimizer = optim.SGD(model.parameters(), lr=0.1)"
   ]
  },
  {
   "cell_type": "code",
   "execution_count": 130,
   "metadata": {},
   "outputs": [],
   "source": [
    "## zero gradients\n",
    "optimizer.zero_grad()"
   ]
  },
  {
   "cell_type": "code",
   "execution_count": 131,
   "metadata": {},
   "outputs": [],
   "source": [
    "## forward pass\n",
    "output = model.forward(X_torch[:32, :])"
   ]
  },
  {
   "cell_type": "code",
   "execution_count": 132,
   "metadata": {},
   "outputs": [],
   "source": [
    "## calculate loss\n",
    "loss = criterion(output, y_torch[:32].unsqueeze(1))"
   ]
  },
  {
   "cell_type": "code",
   "execution_count": 133,
   "metadata": {},
   "outputs": [
    {
     "data": {
      "text/plain": [
       "tensor([[  0.4921,  10.4827]])"
      ]
     },
     "execution_count": 133,
     "metadata": {},
     "output_type": "execute_result"
    }
   ],
   "source": [
    "## backward propagation\n",
    "loss.backward()\n",
    "model.fc.weight.grad"
   ]
  },
  {
   "cell_type": "code",
   "execution_count": 135,
   "metadata": {},
   "outputs": [],
   "source": [
    "## updating weights\n",
    "optimizer.step()"
   ]
  },
  {
   "cell_type": "code",
   "execution_count": 136,
   "metadata": {},
   "outputs": [
    {
     "data": {
      "text/plain": [
       "Parameter containing:\n",
       "tensor([[ 0.5012, -2.0185]])"
      ]
     },
     "execution_count": 136,
     "metadata": {},
     "output_type": "execute_result"
    }
   ],
   "source": [
    "model.fc.weight"
   ]
  }
 ],
 "metadata": {
  "kernelspec": {
   "display_name": "Python 3",
   "language": "python",
   "name": "python3"
  },
  "language_info": {
   "codemirror_mode": {
    "name": "ipython",
    "version": 3
   },
   "file_extension": ".py",
   "mimetype": "text/x-python",
   "name": "python",
   "nbconvert_exporter": "python",
   "pygments_lexer": "ipython3",
   "version": "3.6.4"
  }
 },
 "nbformat": 4,
 "nbformat_minor": 2
}
